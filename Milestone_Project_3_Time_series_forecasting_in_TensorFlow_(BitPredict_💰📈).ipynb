{
  "nbformat": 4,
  "nbformat_minor": 0,
  "metadata": {
    "colab": {
      "provenance": [],
      "authorship_tag": "ABX9TyOEQ0aMXJi9oHmctnC13HQH",
      "include_colab_link": true
    },
    "kernelspec": {
      "name": "python3",
      "display_name": "Python 3"
    },
    "language_info": {
      "name": "python"
    }
  },
  "cells": [
    {
      "cell_type": "markdown",
      "metadata": {
        "id": "view-in-github",
        "colab_type": "text"
      },
      "source": [
        "<a href=\"https://colab.research.google.com/github/95ImadEL/Tensorflow-basics/blob/main/Milestone_Project_3_Time_series_forecasting_in_TensorFlow_(BitPredict_%F0%9F%92%B0%F0%9F%93%88).ipynb\" target=\"_parent\"><img src=\"https://colab.research.google.com/assets/colab-badge.svg\" alt=\"Open In Colab\"/></a>"
      ]
    },
    {
      "cell_type": "code",
      "execution_count": null,
      "metadata": {
        "id": "hWg7CTSxA1Kr"
      },
      "outputs": [],
      "source": [
        "# Check for GPU\n",
        "!nvidia-smi -L"
      ]
    },
    {
      "cell_type": "code",
      "source": [
        "# Download Bitcoin historical data from GitHub \n",
        "# Note: you'll need to select \"Raw\" to download the data in the correct format\n",
        "!wget https://raw.githubusercontent.com/mrdbourke/tensorflow-deep-learning/main/extras/BTC_USD_2013-10-01_2021-05-18-CoinDesk.csv "
      ],
      "metadata": {
        "colab": {
          "base_uri": "https://localhost:8080/"
        },
        "id": "yhbLgPpxC6ui",
        "outputId": "f2a2cd0b-fbd6-4584-d0eb-2bc8040e8c57"
      },
      "execution_count": 1,
      "outputs": [
        {
          "output_type": "stream",
          "name": "stdout",
          "text": [
            "--2023-01-30 14:20:26--  https://raw.githubusercontent.com/mrdbourke/tensorflow-deep-learning/main/extras/BTC_USD_2013-10-01_2021-05-18-CoinDesk.csv\n",
            "Resolving raw.githubusercontent.com (raw.githubusercontent.com)... 185.199.108.133, 185.199.109.133, 185.199.110.133, ...\n",
            "Connecting to raw.githubusercontent.com (raw.githubusercontent.com)|185.199.108.133|:443... connected.\n",
            "HTTP request sent, awaiting response... 200 OK\n",
            "Length: 178509 (174K) [text/plain]\n",
            "Saving to: ‘BTC_USD_2013-10-01_2021-05-18-CoinDesk.csv’\n",
            "\n",
            "\r          BTC_USD_2   0%[                    ]       0  --.-KB/s               \rBTC_USD_2013-10-01_ 100%[===================>] 174.33K  --.-KB/s    in 0.01s   \n",
            "\n",
            "2023-01-30 14:20:26 (17.2 MB/s) - ‘BTC_USD_2013-10-01_2021-05-18-CoinDesk.csv’ saved [178509/178509]\n",
            "\n"
          ]
        }
      ]
    },
    {
      "cell_type": "code",
      "source": [
        "# Import with pandas \n",
        "import pandas as pd\n",
        "# Parse dates and set date column to index\n",
        "df = pd.read_csv(\"BTC_USD_2013-10-01_2021-05-18-CoinDesk.csv\", \n",
        "                 parse_dates=[\"Date\"], \n",
        "                 index_col=[\"Date\"]) # parse the date column (tell pandas column 1 is a datetime)\n",
        "df.head()"
      ],
      "metadata": {
        "colab": {
          "base_uri": "https://localhost:8080/",
          "height": 238
        },
        "id": "cZ59CxE8DRtm",
        "outputId": "fb3cb0f9-c476-4c09-c9c2-1075d5a92de8"
      },
      "execution_count": 2,
      "outputs": [
        {
          "output_type": "execute_result",
          "data": {
            "text/plain": [
              "           Currency  Closing Price (USD)  24h Open (USD)  24h High (USD)  \\\n",
              "Date                                                                       \n",
              "2013-10-01      BTC            123.65499       124.30466       124.75166   \n",
              "2013-10-02      BTC            125.45500       123.65499       125.75850   \n",
              "2013-10-03      BTC            108.58483       125.45500       125.66566   \n",
              "2013-10-04      BTC            118.67466       108.58483       118.67500   \n",
              "2013-10-05      BTC            121.33866       118.67466       121.93633   \n",
              "\n",
              "            24h Low (USD)  \n",
              "Date                       \n",
              "2013-10-01      122.56349  \n",
              "2013-10-02      123.63383  \n",
              "2013-10-03       83.32833  \n",
              "2013-10-04      107.05816  \n",
              "2013-10-05      118.00566  "
            ],
            "text/html": [
              "\n",
              "  <div id=\"df-b21a3c71-038a-4fa9-9302-2fba0054dc0e\">\n",
              "    <div class=\"colab-df-container\">\n",
              "      <div>\n",
              "<style scoped>\n",
              "    .dataframe tbody tr th:only-of-type {\n",
              "        vertical-align: middle;\n",
              "    }\n",
              "\n",
              "    .dataframe tbody tr th {\n",
              "        vertical-align: top;\n",
              "    }\n",
              "\n",
              "    .dataframe thead th {\n",
              "        text-align: right;\n",
              "    }\n",
              "</style>\n",
              "<table border=\"1\" class=\"dataframe\">\n",
              "  <thead>\n",
              "    <tr style=\"text-align: right;\">\n",
              "      <th></th>\n",
              "      <th>Currency</th>\n",
              "      <th>Closing Price (USD)</th>\n",
              "      <th>24h Open (USD)</th>\n",
              "      <th>24h High (USD)</th>\n",
              "      <th>24h Low (USD)</th>\n",
              "    </tr>\n",
              "    <tr>\n",
              "      <th>Date</th>\n",
              "      <th></th>\n",
              "      <th></th>\n",
              "      <th></th>\n",
              "      <th></th>\n",
              "      <th></th>\n",
              "    </tr>\n",
              "  </thead>\n",
              "  <tbody>\n",
              "    <tr>\n",
              "      <th>2013-10-01</th>\n",
              "      <td>BTC</td>\n",
              "      <td>123.65499</td>\n",
              "      <td>124.30466</td>\n",
              "      <td>124.75166</td>\n",
              "      <td>122.56349</td>\n",
              "    </tr>\n",
              "    <tr>\n",
              "      <th>2013-10-02</th>\n",
              "      <td>BTC</td>\n",
              "      <td>125.45500</td>\n",
              "      <td>123.65499</td>\n",
              "      <td>125.75850</td>\n",
              "      <td>123.63383</td>\n",
              "    </tr>\n",
              "    <tr>\n",
              "      <th>2013-10-03</th>\n",
              "      <td>BTC</td>\n",
              "      <td>108.58483</td>\n",
              "      <td>125.45500</td>\n",
              "      <td>125.66566</td>\n",
              "      <td>83.32833</td>\n",
              "    </tr>\n",
              "    <tr>\n",
              "      <th>2013-10-04</th>\n",
              "      <td>BTC</td>\n",
              "      <td>118.67466</td>\n",
              "      <td>108.58483</td>\n",
              "      <td>118.67500</td>\n",
              "      <td>107.05816</td>\n",
              "    </tr>\n",
              "    <tr>\n",
              "      <th>2013-10-05</th>\n",
              "      <td>BTC</td>\n",
              "      <td>121.33866</td>\n",
              "      <td>118.67466</td>\n",
              "      <td>121.93633</td>\n",
              "      <td>118.00566</td>\n",
              "    </tr>\n",
              "  </tbody>\n",
              "</table>\n",
              "</div>\n",
              "      <button class=\"colab-df-convert\" onclick=\"convertToInteractive('df-b21a3c71-038a-4fa9-9302-2fba0054dc0e')\"\n",
              "              title=\"Convert this dataframe to an interactive table.\"\n",
              "              style=\"display:none;\">\n",
              "        \n",
              "  <svg xmlns=\"http://www.w3.org/2000/svg\" height=\"24px\"viewBox=\"0 0 24 24\"\n",
              "       width=\"24px\">\n",
              "    <path d=\"M0 0h24v24H0V0z\" fill=\"none\"/>\n",
              "    <path d=\"M18.56 5.44l.94 2.06.94-2.06 2.06-.94-2.06-.94-.94-2.06-.94 2.06-2.06.94zm-11 1L8.5 8.5l.94-2.06 2.06-.94-2.06-.94L8.5 2.5l-.94 2.06-2.06.94zm10 10l.94 2.06.94-2.06 2.06-.94-2.06-.94-.94-2.06-.94 2.06-2.06.94z\"/><path d=\"M17.41 7.96l-1.37-1.37c-.4-.4-.92-.59-1.43-.59-.52 0-1.04.2-1.43.59L10.3 9.45l-7.72 7.72c-.78.78-.78 2.05 0 2.83L4 21.41c.39.39.9.59 1.41.59.51 0 1.02-.2 1.41-.59l7.78-7.78 2.81-2.81c.8-.78.8-2.07 0-2.86zM5.41 20L4 18.59l7.72-7.72 1.47 1.35L5.41 20z\"/>\n",
              "  </svg>\n",
              "      </button>\n",
              "      \n",
              "  <style>\n",
              "    .colab-df-container {\n",
              "      display:flex;\n",
              "      flex-wrap:wrap;\n",
              "      gap: 12px;\n",
              "    }\n",
              "\n",
              "    .colab-df-convert {\n",
              "      background-color: #E8F0FE;\n",
              "      border: none;\n",
              "      border-radius: 50%;\n",
              "      cursor: pointer;\n",
              "      display: none;\n",
              "      fill: #1967D2;\n",
              "      height: 32px;\n",
              "      padding: 0 0 0 0;\n",
              "      width: 32px;\n",
              "    }\n",
              "\n",
              "    .colab-df-convert:hover {\n",
              "      background-color: #E2EBFA;\n",
              "      box-shadow: 0px 1px 2px rgba(60, 64, 67, 0.3), 0px 1px 3px 1px rgba(60, 64, 67, 0.15);\n",
              "      fill: #174EA6;\n",
              "    }\n",
              "\n",
              "    [theme=dark] .colab-df-convert {\n",
              "      background-color: #3B4455;\n",
              "      fill: #D2E3FC;\n",
              "    }\n",
              "\n",
              "    [theme=dark] .colab-df-convert:hover {\n",
              "      background-color: #434B5C;\n",
              "      box-shadow: 0px 1px 3px 1px rgba(0, 0, 0, 0.15);\n",
              "      filter: drop-shadow(0px 1px 2px rgba(0, 0, 0, 0.3));\n",
              "      fill: #FFFFFF;\n",
              "    }\n",
              "  </style>\n",
              "\n",
              "      <script>\n",
              "        const buttonEl =\n",
              "          document.querySelector('#df-b21a3c71-038a-4fa9-9302-2fba0054dc0e button.colab-df-convert');\n",
              "        buttonEl.style.display =\n",
              "          google.colab.kernel.accessAllowed ? 'block' : 'none';\n",
              "\n",
              "        async function convertToInteractive(key) {\n",
              "          const element = document.querySelector('#df-b21a3c71-038a-4fa9-9302-2fba0054dc0e');\n",
              "          const dataTable =\n",
              "            await google.colab.kernel.invokeFunction('convertToInteractive',\n",
              "                                                     [key], {});\n",
              "          if (!dataTable) return;\n",
              "\n",
              "          const docLinkHtml = 'Like what you see? Visit the ' +\n",
              "            '<a target=\"_blank\" href=https://colab.research.google.com/notebooks/data_table.ipynb>data table notebook</a>'\n",
              "            + ' to learn more about interactive tables.';\n",
              "          element.innerHTML = '';\n",
              "          dataTable['output_type'] = 'display_data';\n",
              "          await google.colab.output.renderOutput(dataTable, element);\n",
              "          const docLink = document.createElement('div');\n",
              "          docLink.innerHTML = docLinkHtml;\n",
              "          element.appendChild(docLink);\n",
              "        }\n",
              "      </script>\n",
              "    </div>\n",
              "  </div>\n",
              "  "
            ]
          },
          "metadata": {},
          "execution_count": 2
        }
      ]
    },
    {
      "cell_type": "code",
      "source": [
        "df.info()"
      ],
      "metadata": {
        "colab": {
          "base_uri": "https://localhost:8080/"
        },
        "id": "sNqefU0EDZBi",
        "outputId": "b6df60b4-9023-41e5-929f-88313af8f119"
      },
      "execution_count": 3,
      "outputs": [
        {
          "output_type": "stream",
          "name": "stdout",
          "text": [
            "<class 'pandas.core.frame.DataFrame'>\n",
            "DatetimeIndex: 2787 entries, 2013-10-01 to 2021-05-18\n",
            "Data columns (total 5 columns):\n",
            " #   Column               Non-Null Count  Dtype  \n",
            "---  ------               --------------  -----  \n",
            " 0   Currency             2787 non-null   object \n",
            " 1   Closing Price (USD)  2787 non-null   float64\n",
            " 2   24h Open (USD)       2787 non-null   float64\n",
            " 3   24h High (USD)       2787 non-null   float64\n",
            " 4   24h Low (USD)        2787 non-null   float64\n",
            "dtypes: float64(4), object(1)\n",
            "memory usage: 130.6+ KB\n"
          ]
        }
      ]
    },
    {
      "cell_type": "code",
      "source": [
        "# How many samples do we have?\n",
        "len(df)"
      ],
      "metadata": {
        "colab": {
          "base_uri": "https://localhost:8080/"
        },
        "id": "GnpQUFZIDk9p",
        "outputId": "83760714-6a94-4b9e-bfe1-bbe37516510d"
      },
      "execution_count": 4,
      "outputs": [
        {
          "output_type": "execute_result",
          "data": {
            "text/plain": [
              "2787"
            ]
          },
          "metadata": {},
          "execution_count": 4
        }
      ]
    },
    {
      "cell_type": "code",
      "source": [
        "# Only want closing price for each day \n",
        "bitcoin_prices = pd.DataFrame(df[\"Closing Price (USD)\"]).rename(columns={\"Closing Price (USD)\": \"Price\"})\n",
        "bitcoin_prices.head()"
      ],
      "metadata": {
        "colab": {
          "base_uri": "https://localhost:8080/",
          "height": 238
        },
        "id": "z2OswKX7IUsp",
        "outputId": "5396c018-a72c-4714-9f85-d5d0bd1fd375"
      },
      "execution_count": 5,
      "outputs": [
        {
          "output_type": "execute_result",
          "data": {
            "text/plain": [
              "                Price\n",
              "Date                 \n",
              "2013-10-01  123.65499\n",
              "2013-10-02  125.45500\n",
              "2013-10-03  108.58483\n",
              "2013-10-04  118.67466\n",
              "2013-10-05  121.33866"
            ],
            "text/html": [
              "\n",
              "  <div id=\"df-ba958781-82d5-4df2-a537-12c9fa5d6bbb\">\n",
              "    <div class=\"colab-df-container\">\n",
              "      <div>\n",
              "<style scoped>\n",
              "    .dataframe tbody tr th:only-of-type {\n",
              "        vertical-align: middle;\n",
              "    }\n",
              "\n",
              "    .dataframe tbody tr th {\n",
              "        vertical-align: top;\n",
              "    }\n",
              "\n",
              "    .dataframe thead th {\n",
              "        text-align: right;\n",
              "    }\n",
              "</style>\n",
              "<table border=\"1\" class=\"dataframe\">\n",
              "  <thead>\n",
              "    <tr style=\"text-align: right;\">\n",
              "      <th></th>\n",
              "      <th>Price</th>\n",
              "    </tr>\n",
              "    <tr>\n",
              "      <th>Date</th>\n",
              "      <th></th>\n",
              "    </tr>\n",
              "  </thead>\n",
              "  <tbody>\n",
              "    <tr>\n",
              "      <th>2013-10-01</th>\n",
              "      <td>123.65499</td>\n",
              "    </tr>\n",
              "    <tr>\n",
              "      <th>2013-10-02</th>\n",
              "      <td>125.45500</td>\n",
              "    </tr>\n",
              "    <tr>\n",
              "      <th>2013-10-03</th>\n",
              "      <td>108.58483</td>\n",
              "    </tr>\n",
              "    <tr>\n",
              "      <th>2013-10-04</th>\n",
              "      <td>118.67466</td>\n",
              "    </tr>\n",
              "    <tr>\n",
              "      <th>2013-10-05</th>\n",
              "      <td>121.33866</td>\n",
              "    </tr>\n",
              "  </tbody>\n",
              "</table>\n",
              "</div>\n",
              "      <button class=\"colab-df-convert\" onclick=\"convertToInteractive('df-ba958781-82d5-4df2-a537-12c9fa5d6bbb')\"\n",
              "              title=\"Convert this dataframe to an interactive table.\"\n",
              "              style=\"display:none;\">\n",
              "        \n",
              "  <svg xmlns=\"http://www.w3.org/2000/svg\" height=\"24px\"viewBox=\"0 0 24 24\"\n",
              "       width=\"24px\">\n",
              "    <path d=\"M0 0h24v24H0V0z\" fill=\"none\"/>\n",
              "    <path d=\"M18.56 5.44l.94 2.06.94-2.06 2.06-.94-2.06-.94-.94-2.06-.94 2.06-2.06.94zm-11 1L8.5 8.5l.94-2.06 2.06-.94-2.06-.94L8.5 2.5l-.94 2.06-2.06.94zm10 10l.94 2.06.94-2.06 2.06-.94-2.06-.94-.94-2.06-.94 2.06-2.06.94z\"/><path d=\"M17.41 7.96l-1.37-1.37c-.4-.4-.92-.59-1.43-.59-.52 0-1.04.2-1.43.59L10.3 9.45l-7.72 7.72c-.78.78-.78 2.05 0 2.83L4 21.41c.39.39.9.59 1.41.59.51 0 1.02-.2 1.41-.59l7.78-7.78 2.81-2.81c.8-.78.8-2.07 0-2.86zM5.41 20L4 18.59l7.72-7.72 1.47 1.35L5.41 20z\"/>\n",
              "  </svg>\n",
              "      </button>\n",
              "      \n",
              "  <style>\n",
              "    .colab-df-container {\n",
              "      display:flex;\n",
              "      flex-wrap:wrap;\n",
              "      gap: 12px;\n",
              "    }\n",
              "\n",
              "    .colab-df-convert {\n",
              "      background-color: #E8F0FE;\n",
              "      border: none;\n",
              "      border-radius: 50%;\n",
              "      cursor: pointer;\n",
              "      display: none;\n",
              "      fill: #1967D2;\n",
              "      height: 32px;\n",
              "      padding: 0 0 0 0;\n",
              "      width: 32px;\n",
              "    }\n",
              "\n",
              "    .colab-df-convert:hover {\n",
              "      background-color: #E2EBFA;\n",
              "      box-shadow: 0px 1px 2px rgba(60, 64, 67, 0.3), 0px 1px 3px 1px rgba(60, 64, 67, 0.15);\n",
              "      fill: #174EA6;\n",
              "    }\n",
              "\n",
              "    [theme=dark] .colab-df-convert {\n",
              "      background-color: #3B4455;\n",
              "      fill: #D2E3FC;\n",
              "    }\n",
              "\n",
              "    [theme=dark] .colab-df-convert:hover {\n",
              "      background-color: #434B5C;\n",
              "      box-shadow: 0px 1px 3px 1px rgba(0, 0, 0, 0.15);\n",
              "      filter: drop-shadow(0px 1px 2px rgba(0, 0, 0, 0.3));\n",
              "      fill: #FFFFFF;\n",
              "    }\n",
              "  </style>\n",
              "\n",
              "      <script>\n",
              "        const buttonEl =\n",
              "          document.querySelector('#df-ba958781-82d5-4df2-a537-12c9fa5d6bbb button.colab-df-convert');\n",
              "        buttonEl.style.display =\n",
              "          google.colab.kernel.accessAllowed ? 'block' : 'none';\n",
              "\n",
              "        async function convertToInteractive(key) {\n",
              "          const element = document.querySelector('#df-ba958781-82d5-4df2-a537-12c9fa5d6bbb');\n",
              "          const dataTable =\n",
              "            await google.colab.kernel.invokeFunction('convertToInteractive',\n",
              "                                                     [key], {});\n",
              "          if (!dataTable) return;\n",
              "\n",
              "          const docLinkHtml = 'Like what you see? Visit the ' +\n",
              "            '<a target=\"_blank\" href=https://colab.research.google.com/notebooks/data_table.ipynb>data table notebook</a>'\n",
              "            + ' to learn more about interactive tables.';\n",
              "          element.innerHTML = '';\n",
              "          dataTable['output_type'] = 'display_data';\n",
              "          await google.colab.output.renderOutput(dataTable, element);\n",
              "          const docLink = document.createElement('div');\n",
              "          docLink.innerHTML = docLinkHtml;\n",
              "          element.appendChild(docLink);\n",
              "        }\n",
              "      </script>\n",
              "    </div>\n",
              "  </div>\n",
              "  "
            ]
          },
          "metadata": {},
          "execution_count": 5
        }
      ]
    },
    {
      "cell_type": "code",
      "source": [
        "import matplotlib.pyplot as plt\n",
        "bitcoin_prices.plot(figsize=(10, 7))\n",
        "plt.ylabel(\"BTC Price\")\n",
        "plt.title(\"Price of Bitcoin from 1 Oct 2013 to 18 May 2021\", fontsize=16)\n",
        "plt.legend(fontsize=14);"
      ],
      "metadata": {
        "colab": {
          "base_uri": "https://localhost:8080/",
          "height": 460
        },
        "id": "R_rL-8OvIZVp",
        "outputId": "fe528673-4fec-46bd-8d04-862dbb664b87"
      },
      "execution_count": 6,
      "outputs": [
        {
          "output_type": "display_data",
          "data": {
            "text/plain": [
              "<Figure size 720x504 with 1 Axes>"
            ],
            "image/png": "[encoded data removed]"
          },
          "metadata": {
            "needs_background": "light"
          }
        }
      ]
    },
    {
      "cell_type": "code",
      "source": [
        "# Get bitcoin date array\n",
        "timesteps = bitcoin_prices.index.to_numpy()\n",
        "prices = bitcoin_prices[\"Price\"].to_numpy()"
      ],
      "metadata": {
        "id": "XpdaWtTMM7sV"
      },
      "execution_count": 8,
      "outputs": []
    },
    {
      "cell_type": "code",
      "source": [
        "# Create train and test splits the right way for time series data\n",
        "split_size = int(0.8 * len(prices)) # 80% train, 20% test\n",
        "\n",
        "# Create train data splits (everything before the split)\n",
        "X_train, y_train = timesteps[:split_size], prices[:split_size]\n",
        "\n",
        "# Create test data splits (everything after the split)\n",
        "X_test, y_test = timesteps[split_size:], prices[split_size:]\n",
        "\n",
        "len(X_train), len(X_test), len(y_train), len(y_test)"
      ],
      "metadata": {
        "colab": {
          "base_uri": "https://localhost:8080/"
        },
        "id": "1P57wxFyIrC2",
        "outputId": "bed0f9e0-f742-40a5-e204-8f4eb1a86150"
      },
      "execution_count": 9,
      "outputs": [
        {
          "output_type": "execute_result",
          "data": {
            "text/plain": [
              "(2229, 558, 2229, 558)"
            ]
          },
          "metadata": {},
          "execution_count": 9
        }
      ]
    },
    {
      "cell_type": "code",
      "source": [
        "# Plot correctly made splits\n",
        "plt.figure(figsize=(10, 7))\n",
        "plt.scatter(X_train, y_train, s=5, label=\"Train data\")\n",
        "plt.scatter(X_test, y_test, s=5, label=\"Test data\")\n",
        "plt.xlabel(\"Date\")\n",
        "plt.ylabel(\"BTC Price\")\n",
        "plt.legend(fontsize=14)\n",
        "plt.show();"
      ],
      "metadata": {
        "colab": {
          "base_uri": "https://localhost:8080/",
          "height": 442
        },
        "id": "qyMPYt0NNB_f",
        "outputId": "fbd9920a-ad42-4f3b-c36b-96f99fe4c1b0"
      },
      "execution_count": 11,
      "outputs": [
        {
          "output_type": "display_data",
          "data": {
            "text/plain": [
              "<Figure size 720x504 with 1 Axes>"
            ],
            "image/png": "[encoded data removed]"
          },
          "metadata": {
            "needs_background": "light"
          }
        }
      ]
    },
    {
      "cell_type": "code",
      "source": [
        "# Create a function to plot time series data\n",
        "def plot_time_series(timesteps, values, format='.', start=0, end=None, label=None):\n",
        "  \"\"\"\n",
        "  Plots a timesteps (a series of points in time) against values (a series of values across timesteps).\n",
        "  \n",
        "  Parameters\n",
        "  ---------\n",
        "  timesteps : array of timesteps\n",
        "  values : array of values across time\n",
        "  format : style of plot, default \".\"\n",
        "  start : where to start the plot (setting a value will index from start of timesteps & values)\n",
        "  end : where to end the plot (setting a value will index from end of timesteps & values)\n",
        "  label : label to show on plot of values\n",
        "  \"\"\"\n",
        "  # Plot the series\n",
        "  plt.plot(timesteps[start:end], values[start:end], format, label=label)\n",
        "  plt.xlabel(\"Time\")\n",
        "  plt.ylabel(\"BTC Price\")\n",
        "  if label:\n",
        "    plt.legend(fontsize=14) # make label bigger\n",
        "  plt.grid(True)"
      ],
      "metadata": {
        "id": "LphpRMr3NeND"
      },
      "execution_count": 12,
      "outputs": []
    },
    {
      "cell_type": "code",
      "source": [
        "# Try out our plotting function\n",
        "plt.figure(figsize=(10, 7))\n",
        "plot_time_series(timesteps=X_train, values=y_train, label=\"Train data\")\n",
        "plot_time_series(timesteps=X_test, values=y_test, label=\"Test data\")"
      ],
      "metadata": {
        "colab": {
          "base_uri": "https://localhost:8080/",
          "height": 442
        },
        "id": "MVGWCIVmNhkE",
        "outputId": "6e23ec0c-26c3-4cdb-ee5d-f943820daf3e"
      },
      "execution_count": 13,
      "outputs": [
        {
          "output_type": "display_data",
          "data": {
            "text/plain": [
              "<Figure size 720x504 with 1 Axes>"
            ],
            "image/png": "[encoded data removed]"
          },
          "metadata": {
            "needs_background": "light"
          }
        }
      ]
    },
    {
      "cell_type": "markdown",
      "source": [
        "# Model 0: Naïve forecast (baseline)"
      ],
      "metadata": {
        "id": "PbOGmUgmN-Fw"
      }
    },
    {
      "cell_type": "code",
      "source": [
        "# Create a naïve forecast\n",
        "naive_forecast = y_test[:-1] # Naïve forecast equals every value excluding the last value\n",
        "naive_forecast[:10], naive_forecast[-10:] # View frist 10 and last 10"
      ],
      "metadata": {
        "colab": {
          "base_uri": "https://localhost:8080/"
        },
        "id": "NxuX9i-9N9zv",
        "outputId": "d0e8fcd0-d904-4eea-e852-fede4d36ea4e"
      },
      "execution_count": 14,
      "outputs": [
        {
          "output_type": "execute_result",
          "data": {
            "text/plain": [
              "(array([9226.48582088, 8794.35864452, 8798.04205463, 9081.18687849,\n",
              "        8711.53433917, 8760.89271814, 8749.52059102, 8656.97092235,\n",
              "        8500.64355816, 8469.2608989 ]),\n",
              " array([57107.12067189, 58788.20967893, 58102.19142623, 55715.54665129,\n",
              "        56573.5554719 , 52147.82118698, 49764.1320816 , 50032.69313676,\n",
              "        47885.62525472, 45604.61575361]))"
            ]
          },
          "metadata": {},
          "execution_count": 14
        }
      ]
    },
    {
      "cell_type": "code",
      "source": [
        "# Plot naive forecast\n",
        "plt.figure(figsize=(10, 7))\n",
        "plot_time_series(timesteps=X_train, values=y_train, label=\"Train data\")\n",
        "plot_time_series(timesteps=X_test, values=y_test, label=\"Test data\")\n",
        "plot_time_series(timesteps=X_test[1:], values=naive_forecast, format=\"-\", label=\"Naive forecast\");"
      ],
      "metadata": {
        "colab": {
          "base_uri": "https://localhost:8080/",
          "height": 442
        },
        "id": "RF2PogLSOnl3",
        "outputId": "53bceacd-6b59-4175-a769-69e86e931fbf"
      },
      "execution_count": 15,
      "outputs": [
        {
          "output_type": "display_data",
          "data": {
            "text/plain": [
              "<Figure size 720x504 with 1 Axes>"
            ],
            "image/png": "[encoded data removed]"
          },
          "metadata": {
            "needs_background": "light"
          }
        }
      ]
    },
    {
      "cell_type": "code",
      "source": [
        "plt.figure(figsize=(10, 7))\n",
        "offset = 300 # offset the values by 300 timesteps \n",
        "plot_time_series(timesteps=X_test, values=y_test, start=offset, label=\"Test data\")\n",
        "plot_time_series(timesteps=X_test[1:], values=naive_forecast, format=\"-\", start=offset, label=\"Naive forecast\");"
      ],
      "metadata": {
        "colab": {
          "base_uri": "https://localhost:8080/",
          "height": 442
        },
        "id": "iSfRDhIcOvFX",
        "outputId": "e757ad95-875d-4dba-c2be-46315c73dc44"
      },
      "execution_count": 16,
      "outputs": [
        {
          "output_type": "display_data",
          "data": {
            "text/plain": [
              "<Figure size 720x504 with 1 Axes>"
            ],
            "image/png": "[encoded data removed]"
          },
          "metadata": {
            "needs_background": "light"
          }
        }
      ]
    },
    {
      "cell_type": "code",
      "source": [
        "# Let's get TensorFlow! \n",
        "import tensorflow as tf"
      ],
      "metadata": {
        "id": "qGhHwwoLP4P7"
      },
      "execution_count": 17,
      "outputs": []
    },
    {
      "cell_type": "code",
      "source": [
        "# MASE implemented courtesy of sktime - https://github.com/alan-turing-institute/sktime/blob/ee7a06843a44f4aaec7582d847e36073a9ab0566/sktime/performance_metrics/forecasting/_functions.py#L16\n",
        "def mean_absolute_scaled_error(y_true, y_pred):\n",
        "  \"\"\"\n",
        "  Implement MASE (assuming no seasonality of data).\n",
        "  \"\"\"\n",
        "  mae = tf.reduce_mean(tf.abs(y_true - y_pred))\n",
        "\n",
        "  # Find MAE of naive forecast (no seasonality)\n",
        "  mae_naive_no_season = tf.reduce_mean(tf.abs(y_true[1:] - y_true[:-1])) # our seasonality is 1 day (hence the shifting of 1 day)\n",
        "\n",
        "  return mae / mae_naive_no_season"
      ],
      "metadata": {
        "id": "w8BS3kXyQUQl"
      },
      "execution_count": 20,
      "outputs": []
    },
    {
      "cell_type": "code",
      "source": [
        "def evaluate_preds(y_true, y_pred):\n",
        "  # Make sure float32 (for metric calculations)\n",
        "  y_true = tf.cast(y_true, dtype=tf.float32)\n",
        "  y_pred = tf.cast(y_pred, dtype=tf.float32)\n",
        "\n",
        "  # Calculate various metrics\n",
        "  mae = tf.keras.metrics.mean_absolute_error(y_true, y_pred)\n",
        "  mse = tf.keras.metrics.mean_squared_error(y_true, y_pred) # puts and emphasis on outliers (all errors get squared)\n",
        "  rmse = tf.sqrt(mse)\n",
        "  mape = tf.keras.metrics.mean_absolute_percentage_error(y_true, y_pred)\n",
        "  mase = mean_absolute_scaled_error(y_true, y_pred)\n",
        "  \n",
        "  return {\"mae\": mae.numpy(),\n",
        "          \"mse\": mse.numpy(),\n",
        "          \"rmse\": rmse.numpy(),\n",
        "          \"mape\": mape.numpy(),\n",
        "          \"mase\": mase.numpy()}"
      ],
      "metadata": {
        "id": "bde1mtw4Qj1p"
      },
      "execution_count": 18,
      "outputs": []
    },
    {
      "cell_type": "code",
      "source": [
        "naive_results = evaluate_preds(y_true=y_test[1:],\n",
        "                               y_pred=naive_forecast)\n",
        "naive_results"
      ],
      "metadata": {
        "colab": {
          "base_uri": "https://localhost:8080/"
        },
        "id": "rLGJ_m1iQpsi",
        "outputId": "78d1c849-7447-41b6-89ac-d9814afcbd1c"
      },
      "execution_count": 21,
      "outputs": [
        {
          "output_type": "execute_result",
          "data": {
            "text/plain": [
              "{'mae': 567.9802,\n",
              " 'mse': 1147547.0,\n",
              " 'rmse': 1071.2362,\n",
              " 'mape': 2.5165248,\n",
              " 'mase': 0.99957}"
            ]
          },
          "metadata": {},
          "execution_count": 21
        }
      ]
    },
    {
      "cell_type": "code",
      "source": [
        "# Find average price of Bitcoin in test dataset\n",
        "tf.reduce_mean(y_test).numpy()"
      ],
      "metadata": {
        "colab": {
          "base_uri": "https://localhost:8080/"
        },
        "id": "zf2LSmRLQ4WX",
        "outputId": "16a302aa-f635-4c93-e52a-6b5f89505bc1"
      },
      "execution_count": 22,
      "outputs": [
        {
          "output_type": "execute_result",
          "data": {
            "text/plain": [
              "20056.632963737226"
            ]
          },
          "metadata": {},
          "execution_count": 22
        }
      ]
    },
    {
      "cell_type": "code",
      "source": [
        "HORIZON = 1 # predict 1 step at a time\n",
        "WINDOW_SIZE = 7 # use a week worth of timesteps to predict the horizon"
      ],
      "metadata": {
        "id": "KQ4K4SGWSup3"
      },
      "execution_count": 23,
      "outputs": []
    },
    {
      "cell_type": "code",
      "source": [
        "# Create function to label windowed data\n",
        "def get_labelled_windows(x, horizon=1):\n",
        "  \"\"\"\n",
        "  Creates labels for windowed dataset.\n",
        "\n",
        "  E.g. if horizon=1 (default)\n",
        "  Input: [1, 2, 3, 4, 5, 6] -> Output: ([1, 2, 3, 4, 5], [6])\n",
        "  \"\"\"\n",
        "  return x[:, :-horizon], x[:, -horizon:]"
      ],
      "metadata": {
        "id": "MMShq5Y7S6ae"
      },
      "execution_count": 24,
      "outputs": []
    },
    {
      "cell_type": "code",
      "source": [
        "# Test out the window labelling function\n",
        "test_window, test_label = get_labelled_windows(tf.expand_dims(tf.range(8)+1, axis=0), horizon=HORIZON)\n",
        "print(f\"Window: {tf.squeeze(test_window).numpy()} -> Label: {tf.squeeze(test_label).numpy()}\")"
      ],
      "metadata": {
        "colab": {
          "base_uri": "https://localhost:8080/"
        },
        "id": "eap9p77FTEoZ",
        "outputId": "6cff1a22-9916-44c7-9875-06ed5e2ab3c4"
      },
      "execution_count": 27,
      "outputs": [
        {
          "output_type": "stream",
          "name": "stdout",
          "text": [
            "Window: [1 2 3 4 5 6 7] -> Label: 8\n"
          ]
        }
      ]
    },
    {
      "cell_type": "code",
      "source": [
        "# Create function to view NumPy arrays as windows \n",
        "def make_windows(x, window_size=7, horizon=1):\n",
        "  \"\"\"\n",
        "  Turns a 1D array into a 2D array of sequential windows of window_size.\n",
        "  \"\"\"\n",
        "  # 1. Create a window of specific window_size (add the horizon on the end for later labelling)\n",
        "  window_step = np.expand_dims(np.arange(window_size+horizon), axis=0)\n",
        "  # print(f\"Window step:\\n {window_step}\")\n",
        "\n",
        "  # 2. Create a 2D array of multiple window steps (minus 1 to account for 0 indexing)\n",
        "  window_indexes = window_step + np.expand_dims(np.arange(len(x)-(window_size+horizon-1)), axis=0).T # create 2D array of windows of size window_size\n",
        "  # print(f\"Window indexes:\\n {window_indexes[:3], window_indexes[-3:], window_indexes.shape}\")\n",
        "\n",
        "  # 3. Index on the target array (time series) with 2D array of multiple window steps\n",
        "  windowed_array = x[window_indexes]\n",
        "\n",
        "  # 4. Get the labelled windows\n",
        "  windows, labels = get_labelled_windows(windowed_array, horizon=horizon)\n",
        "\n",
        "  return windows, labels"
      ],
      "metadata": {
        "id": "VbXB5gzQTgCt"
      },
      "execution_count": 28,
      "outputs": []
    },
    {
      "cell_type": "code",
      "source": [
        "import numpy as np\n",
        "\n",
        "full_windows, full_labels = make_windows(prices, window_size=WINDOW_SIZE, horizon=HORIZON)\n",
        "len(full_windows), len(full_labels)"
      ],
      "metadata": {
        "colab": {
          "base_uri": "https://localhost:8080/"
        },
        "id": "KiVjA9O1Tuzu",
        "outputId": "cc6ae184-09a1-4d69-9799-6d21aaf0effb"
      },
      "execution_count": 30,
      "outputs": [
        {
          "output_type": "execute_result",
          "data": {
            "text/plain": [
              "(2780, 2780)"
            ]
          },
          "metadata": {},
          "execution_count": 30
        }
      ]
    },
    {
      "cell_type": "code",
      "source": [
        "# View the first 3 windows/labels\n",
        "for i in range(3):\n",
        "  print(f\"Window: {full_windows[i]} -> Label: {full_labels[i]}\")"
      ],
      "metadata": {
        "colab": {
          "base_uri": "https://localhost:8080/"
        },
        "id": "ck0vlaXaT56g",
        "outputId": "9926eb17-8c08-47e5-bbfe-0de47121a157"
      },
      "execution_count": 31,
      "outputs": [
        {
          "output_type": "stream",
          "name": "stdout",
          "text": [
            "Window: [123.65499 125.455   108.58483 118.67466 121.33866 120.65533 121.795  ] -> Label: [123.033]\n",
            "Window: [125.455   108.58483 118.67466 121.33866 120.65533 121.795   123.033  ] -> Label: [124.049]\n",
            "Window: [108.58483 118.67466 121.33866 120.65533 121.795   123.033   124.049  ] -> Label: [125.96116]\n"
          ]
        }
      ]
    },
    {
      "cell_type": "code",
      "source": [
        "# View the last 3 windows/labels\n",
        "for i in range(3):\n",
        "  print(f\"Window: {full_windows[i-3]} -> Label: {full_labels[i-3]}\")"
      ],
      "metadata": {
        "colab": {
          "base_uri": "https://localhost:8080/"
        },
        "id": "WvCwE413UCkr",
        "outputId": "34d66876-1761-4f10-b728-3ee47dfe4058"
      },
      "execution_count": 32,
      "outputs": [
        {
          "output_type": "stream",
          "name": "stdout",
          "text": [
            "Window: [58788.20967893 58102.19142623 55715.54665129 56573.5554719\n",
            " 52147.82118698 49764.1320816  50032.69313676] -> Label: [47885.62525472]\n",
            "Window: [58102.19142623 55715.54665129 56573.5554719  52147.82118698\n",
            " 49764.1320816  50032.69313676 47885.62525472] -> Label: [45604.61575361]\n",
            "Window: [55715.54665129 56573.5554719  52147.82118698 49764.1320816\n",
            " 50032.69313676 47885.62525472 45604.61575361] -> Label: [43144.47129086]\n"
          ]
        }
      ]
    },
    {
      "cell_type": "code",
      "source": [
        "# Make the train/test splits\n",
        "def make_train_test_splits(windows, labels, test_split=0.2):\n",
        "  \"\"\"\n",
        "  Splits matching pairs of windows and labels into train and test splits.\n",
        "  \"\"\"\n",
        "  split_size = int(len(windows) * (1-test_split)) # this will default to 80% train/20% test\n",
        "  train_windows = windows[:split_size]\n",
        "  train_labels = labels[:split_size]\n",
        "  test_windows = windows[split_size:]\n",
        "  test_labels = labels[split_size:]\n",
        "  return train_windows, test_windows, train_labels, test_labels"
      ],
      "metadata": {
        "id": "Hcsmx6ciUO-z"
      },
      "execution_count": 33,
      "outputs": []
    },
    {
      "cell_type": "code",
      "source": [
        "train_windows, test_windows, train_labels, test_labels = make_train_test_splits(full_windows, full_labels)\n",
        "len(train_windows), len(test_windows), len(train_labels), len(test_labels)"
      ],
      "metadata": {
        "colab": {
          "base_uri": "https://localhost:8080/"
        },
        "id": "G2gdZcKdUoa8",
        "outputId": "4e2953c2-9e88-4e26-8764-ec26b9b88566"
      },
      "execution_count": 34,
      "outputs": [
        {
          "output_type": "execute_result",
          "data": {
            "text/plain": [
              "(2224, 556, 2224, 556)"
            ]
          },
          "metadata": {},
          "execution_count": 34
        }
      ]
    },
    {
      "cell_type": "code",
      "source": [
        "train_windows[:5], train_labels[:5]"
      ],
      "metadata": {
        "colab": {
          "base_uri": "https://localhost:8080/"
        },
        "id": "SaEK9pLFUtTd",
        "outputId": "aac00ba4-6db7-4625-a9ea-1c03db8bbb3f"
      },
      "execution_count": 35,
      "outputs": [
        {
          "output_type": "execute_result",
          "data": {
            "text/plain": [
              "(array([[123.65499, 125.455  , 108.58483, 118.67466, 121.33866, 120.65533,\n",
              "         121.795  ],\n",
              "        [125.455  , 108.58483, 118.67466, 121.33866, 120.65533, 121.795  ,\n",
              "         123.033  ],\n",
              "        [108.58483, 118.67466, 121.33866, 120.65533, 121.795  , 123.033  ,\n",
              "         124.049  ],\n",
              "        [118.67466, 121.33866, 120.65533, 121.795  , 123.033  , 124.049  ,\n",
              "         125.96116],\n",
              "        [121.33866, 120.65533, 121.795  , 123.033  , 124.049  , 125.96116,\n",
              "         125.27966]]), array([[123.033  ],\n",
              "        [124.049  ],\n",
              "        [125.96116],\n",
              "        [125.27966],\n",
              "        [125.9275 ]]))"
            ]
          },
          "metadata": {},
          "execution_count": 35
        }
      ]
    },
    {
      "cell_type": "code",
      "source": [
        "import os\n",
        "\n",
        "# Create a function to implement a ModelCheckpoint callback with a specific filename \n",
        "def create_model_checkpoint(model_name, save_path=\"model_experiments\"):\n",
        "  return tf.keras.callbacks.ModelCheckpoint(filepath=os.path.join(save_path, model_name), # create filepath to save model\n",
        "                                            verbose=0, # only output a limited amount of text\n",
        "                                            save_best_only=True) # save only the best model to file"
      ],
      "metadata": {
        "id": "lKMOq2LYVVc5"
      },
      "execution_count": 36,
      "outputs": []
    },
    {
      "cell_type": "markdown",
      "source": [
        "# Model 1: Dense model (window = 7, horizon = 1)"
      ],
      "metadata": {
        "id": "Llcj_pc7VY8a"
      }
    },
    {
      "cell_type": "code",
      "source": [
        "import tensorflow as tf\n",
        "from tensorflow.keras import layers\n",
        "\n",
        "# Set random seed for as reproducible results as possible\n",
        "tf.random.set_seed(42)\n",
        "\n",
        "# Construct model\n",
        "model_1 = tf.keras.Sequential([\n",
        "  layers.Dense(128, activation=\"relu\"),\n",
        "  layers.Dense(HORIZON, activation=\"linear\") # linear activation is the same as having no activation                        \n",
        "], name=\"model_1_dense\") # give the model a name so we can save it\n",
        "\n",
        "# Compile model\n",
        "model_1.compile(loss=\"mae\",\n",
        "                optimizer=tf.keras.optimizers.Adam(),\n",
        "                metrics=[\"mae\"]) # we don't necessarily need this when the loss function is already MAE\n",
        "\n",
        "# Fit model\n",
        "model_1.fit(x=train_windows, # train windows of 7 timesteps of Bitcoin prices\n",
        "            y=train_labels, # horizon value of 1 (using the previous 7 timesteps to predict next day)\n",
        "            epochs=100,\n",
        "            verbose=1,\n",
        "            batch_size=128,\n",
        "            validation_data=(test_windows, test_labels),\n",
        "            callbacks=[create_model_checkpoint(model_name=model_1.name)]) # create ModelCheckpoint callback to save best model"
      ],
      "metadata": {
        "colab": {
          "base_uri": "https://localhost:8080/"
        },
        "id": "iaAI9H0ZVaFp",
        "outputId": "d8d747bd-dc8d-494f-9d94-596220c66d97"
      },
      "execution_count": 38,
      "outputs": [
        {
          "output_type": "stream",
          "name": "stdout",
          "text": [
            "Epoch 1/100\n",
            "18/18 [==============================] - 1s 28ms/step - loss: 780.3469 - mae: 780.3469 - val_loss: 2279.5828 - val_mae: 2279.5828\n",
            "Epoch 2/100\n",
            "18/18 [==============================] - 0s 25ms/step - loss: 247.6765 - mae: 247.6765 - val_loss: 1005.9865 - val_mae: 1005.9865\n",
            "Epoch 3/100\n",
            "18/18 [==============================] - 0s 25ms/step - loss: 188.4107 - mae: 188.4107 - val_loss: 923.2861 - val_mae: 923.2861\n",
            "Epoch 4/100\n",
            "18/18 [==============================] - 0s 25ms/step - loss: 169.4334 - mae: 169.4334 - val_loss: 900.5931 - val_mae: 900.5931\n",
            "Epoch 5/100\n",
            "18/18 [==============================] - 0s 26ms/step - loss: 165.0900 - mae: 165.0900 - val_loss: 895.2404 - val_mae: 895.2404\n",
            "Epoch 6/100\n",
            "18/18 [==============================] - 0s 25ms/step - loss: 158.5206 - mae: 158.5206 - val_loss: 855.1868 - val_mae: 855.1868\n",
            "Epoch 7/100\n",
            "18/18 [==============================] - 0s 24ms/step - loss: 151.3568 - mae: 151.3568 - val_loss: 840.9289 - val_mae: 840.9289\n",
            "Epoch 8/100\n",
            "18/18 [==============================] - 0s 25ms/step - loss: 145.2560 - mae: 145.2560 - val_loss: 803.6005 - val_mae: 803.6005\n",
            "Epoch 9/100\n",
            "18/18 [==============================] - 0s 25ms/step - loss: 144.3546 - mae: 144.3546 - val_loss: 799.5592 - val_mae: 799.5592\n",
            "Epoch 10/100\n",
            "18/18 [==============================] - 0s 24ms/step - loss: 141.2944 - mae: 141.2944 - val_loss: 763.5060 - val_mae: 763.5060\n",
            "Epoch 11/100\n",
            "18/18 [==============================] - 0s 3ms/step - loss: 135.6591 - mae: 135.6591 - val_loss: 771.3523 - val_mae: 771.3523\n",
            "Epoch 12/100\n",
            "18/18 [==============================] - 0s 2ms/step - loss: 134.1702 - mae: 134.1702 - val_loss: 782.8324 - val_mae: 782.8324\n",
            "Epoch 13/100\n",
            "18/18 [==============================] - 0s 3ms/step - loss: 134.6014 - mae: 134.6014 - val_loss: 784.4727 - val_mae: 784.4727\n",
            "Epoch 14/100\n",
            "18/18 [==============================] - 1s 39ms/step - loss: 130.6125 - mae: 130.6125 - val_loss: 751.3470 - val_mae: 751.3470\n",
            "Epoch 15/100\n",
            "18/18 [==============================] - 0s 26ms/step - loss: 128.8352 - mae: 128.8352 - val_loss: 696.5835 - val_mae: 696.5835\n",
            "Epoch 16/100\n",
            "18/18 [==============================] - 0s 4ms/step - loss: 124.8667 - mae: 124.8667 - val_loss: 707.2986 - val_mae: 707.2986\n",
            "Epoch 17/100\n",
            "18/18 [==============================] - 0s 3ms/step - loss: 123.6096 - mae: 123.6096 - val_loss: 714.2289 - val_mae: 714.2289\n",
            "Epoch 18/100\n",
            "18/18 [==============================] - 0s 24ms/step - loss: 122.3023 - mae: 122.3023 - val_loss: 669.1413 - val_mae: 669.1413\n",
            "Epoch 19/100\n",
            "18/18 [==============================] - 0s 3ms/step - loss: 121.4931 - mae: 121.4931 - val_loss: 721.5450 - val_mae: 721.5450\n",
            "Epoch 20/100\n",
            "18/18 [==============================] - 0s 24ms/step - loss: 119.2384 - mae: 119.2384 - val_loss: 658.0785 - val_mae: 658.0785\n",
            "Epoch 21/100\n",
            "18/18 [==============================] - 0s 25ms/step - loss: 121.5293 - mae: 121.5293 - val_loss: 638.3384 - val_mae: 638.3384\n",
            "Epoch 22/100\n",
            "18/18 [==============================] - 0s 4ms/step - loss: 119.3422 - mae: 119.3422 - val_loss: 678.8879 - val_mae: 678.8879\n",
            "Epoch 23/100\n",
            "18/18 [==============================] - 0s 2ms/step - loss: 122.8203 - mae: 122.8203 - val_loss: 651.8511 - val_mae: 651.8511\n",
            "Epoch 24/100\n",
            "18/18 [==============================] - 0s 23ms/step - loss: 117.0774 - mae: 117.0774 - val_loss: 623.5612 - val_mae: 623.5612\n",
            "Epoch 25/100\n",
            "18/18 [==============================] - 0s 27ms/step - loss: 115.1816 - mae: 115.1816 - val_loss: 618.5575 - val_mae: 618.5575\n",
            "Epoch 26/100\n",
            "18/18 [==============================] - 0s 24ms/step - loss: 115.0673 - mae: 115.0673 - val_loss: 616.4917 - val_mae: 616.4917\n",
            "Epoch 27/100\n",
            "18/18 [==============================] - 0s 4ms/step - loss: 116.6431 - mae: 116.6431 - val_loss: 619.0472 - val_mae: 619.0472\n",
            "Epoch 28/100\n",
            "18/18 [==============================] - 0s 24ms/step - loss: 114.0328 - mae: 114.0328 - val_loss: 610.3881 - val_mae: 610.3881\n",
            "Epoch 29/100\n",
            "18/18 [==============================] - 0s 2ms/step - loss: 113.4892 - mae: 113.4892 - val_loss: 617.2402 - val_mae: 617.2402\n",
            "Epoch 30/100\n",
            "18/18 [==============================] - 0s 25ms/step - loss: 116.4094 - mae: 116.4094 - val_loss: 603.6488 - val_mae: 603.6488\n",
            "Epoch 31/100\n",
            "18/18 [==============================] - 0s 4ms/step - loss: 112.3454 - mae: 112.3454 - val_loss: 623.4432 - val_mae: 623.4432\n",
            "Epoch 32/100\n",
            "18/18 [==============================] - 0s 24ms/step - loss: 113.2056 - mae: 113.2056 - val_loss: 600.0259 - val_mae: 600.0259\n",
            "Epoch 33/100\n",
            "18/18 [==============================] - 0s 3ms/step - loss: 112.9529 - mae: 112.9529 - val_loss: 653.0601 - val_mae: 653.0601\n",
            "Epoch 34/100\n",
            "18/18 [==============================] - 0s 24ms/step - loss: 112.1156 - mae: 112.1156 - val_loss: 594.7912 - val_mae: 594.7912\n",
            "Epoch 35/100\n",
            "18/18 [==============================] - 0s 22ms/step - loss: 110.7447 - mae: 110.7447 - val_loss: 592.7401 - val_mae: 592.7401\n",
            "Epoch 36/100\n",
            "18/18 [==============================] - 0s 24ms/step - loss: 116.3301 - mae: 116.3301 - val_loss: 592.4696 - val_mae: 592.4696\n",
            "Epoch 37/100\n",
            "18/18 [==============================] - 0s 3ms/step - loss: 110.7676 - mae: 110.7676 - val_loss: 618.5347 - val_mae: 618.5347\n",
            "Epoch 38/100\n",
            "18/18 [==============================] - 0s 2ms/step - loss: 112.5934 - mae: 112.5934 - val_loss: 613.9558 - val_mae: 613.9558\n",
            "Epoch 39/100\n",
            "18/18 [==============================] - 0s 21ms/step - loss: 110.1321 - mae: 110.1321 - val_loss: 586.6888 - val_mae: 586.6888\n",
            "Epoch 40/100\n",
            "18/18 [==============================] - 0s 3ms/step - loss: 109.4753 - mae: 109.4753 - val_loss: 593.9153 - val_mae: 593.9153\n",
            "Epoch 41/100\n",
            "18/18 [==============================] - 1s 36ms/step - loss: 110.1777 - mae: 110.1777 - val_loss: 586.4464 - val_mae: 586.4464\n",
            "Epoch 42/100\n",
            "18/18 [==============================] - 0s 3ms/step - loss: 111.5192 - mae: 111.5192 - val_loss: 649.3647 - val_mae: 649.3647\n",
            "Epoch 43/100\n",
            "18/18 [==============================] - 0s 4ms/step - loss: 115.8939 - mae: 115.8939 - val_loss: 686.8293 - val_mae: 686.8293\n",
            "Epoch 44/100\n",
            "18/18 [==============================] - 0s 2ms/step - loss: 123.0945 - mae: 123.0945 - val_loss: 661.1306 - val_mae: 661.1306\n",
            "Epoch 45/100\n",
            "18/18 [==============================] - 0s 2ms/step - loss: 113.8169 - mae: 113.8169 - val_loss: 626.8174 - val_mae: 626.8174\n",
            "Epoch 46/100\n",
            "18/18 [==============================] - 0s 2ms/step - loss: 114.0971 - mae: 114.0971 - val_loss: 588.7769 - val_mae: 588.7769\n",
            "Epoch 47/100\n",
            "18/18 [==============================] - 0s 3ms/step - loss: 108.9936 - mae: 108.9936 - val_loss: 636.0581 - val_mae: 636.0581\n",
            "Epoch 48/100\n",
            "18/18 [==============================] - 0s 3ms/step - loss: 109.2967 - mae: 109.2967 - val_loss: 604.1586 - val_mae: 604.1586\n",
            "Epoch 49/100\n",
            "18/18 [==============================] - 0s 2ms/step - loss: 111.7787 - mae: 111.7787 - val_loss: 591.5095 - val_mae: 591.5095\n",
            "Epoch 50/100\n",
            "18/18 [==============================] - 0s 2ms/step - loss: 111.7319 - mae: 111.7319 - val_loss: 636.4678 - val_mae: 636.4678\n",
            "Epoch 51/100\n",
            "18/18 [==============================] - 0s 4ms/step - loss: 110.7497 - mae: 110.7497 - val_loss: 589.2878 - val_mae: 589.2878\n",
            "Epoch 52/100\n",
            "18/18 [==============================] - 0s 2ms/step - loss: 111.5193 - mae: 111.5193 - val_loss: 609.5289 - val_mae: 609.5289\n",
            "Epoch 53/100\n",
            "18/18 [==============================] - 0s 23ms/step - loss: 113.9868 - mae: 113.9868 - val_loss: 584.7472 - val_mae: 584.7472\n",
            "Epoch 54/100\n",
            "18/18 [==============================] - 0s 24ms/step - loss: 110.1075 - mae: 110.1075 - val_loss: 578.7415 - val_mae: 578.7415\n",
            "Epoch 55/100\n",
            "18/18 [==============================] - 0s 3ms/step - loss: 110.6423 - mae: 110.6423 - val_loss: 581.5332 - val_mae: 581.5332\n",
            "Epoch 56/100\n",
            "18/18 [==============================] - 0s 3ms/step - loss: 107.6537 - mae: 107.6537 - val_loss: 759.0189 - val_mae: 759.0189\n",
            "Epoch 57/100\n",
            "18/18 [==============================] - 0s 3ms/step - loss: 119.2012 - mae: 119.2012 - val_loss: 603.5953 - val_mae: 603.5953\n",
            "Epoch 58/100\n",
            "18/18 [==============================] - 0s 3ms/step - loss: 116.4418 - mae: 116.4418 - val_loss: 583.7297 - val_mae: 583.7297\n",
            "Epoch 59/100\n",
            "18/18 [==============================] - 0s 3ms/step - loss: 109.9014 - mae: 109.9014 - val_loss: 592.8416 - val_mae: 592.8416\n",
            "Epoch 60/100\n",
            "18/18 [==============================] - 0s 3ms/step - loss: 107.7859 - mae: 107.7859 - val_loss: 593.4968 - val_mae: 593.4968\n",
            "Epoch 61/100\n",
            "18/18 [==============================] - 0s 24ms/step - loss: 107.6960 - mae: 107.6960 - val_loss: 575.5124 - val_mae: 575.5124\n",
            "Epoch 62/100\n",
            "18/18 [==============================] - 0s 3ms/step - loss: 107.1258 - mae: 107.1258 - val_loss: 580.2645 - val_mae: 580.2645\n",
            "Epoch 63/100\n",
            "18/18 [==============================] - 0s 3ms/step - loss: 111.8451 - mae: 111.8451 - val_loss: 654.6142 - val_mae: 654.6142\n",
            "Epoch 64/100\n",
            "18/18 [==============================] - 0s 3ms/step - loss: 110.3121 - mae: 110.3121 - val_loss: 610.7811 - val_mae: 610.7811\n",
            "Epoch 65/100\n",
            "18/18 [==============================] - 0s 24ms/step - loss: 109.7098 - mae: 109.7098 - val_loss: 573.9961 - val_mae: 573.9961\n",
            "Epoch 66/100\n",
            "18/18 [==============================] - 0s 24ms/step - loss: 106.8139 - mae: 106.8139 - val_loss: 572.9989 - val_mae: 572.9989\n",
            "Epoch 67/100\n",
            "18/18 [==============================] - 0s 3ms/step - loss: 106.1394 - mae: 106.1394 - val_loss: 602.1524 - val_mae: 602.1524\n",
            "Epoch 68/100\n",
            "18/18 [==============================] - 0s 3ms/step - loss: 112.9245 - mae: 112.9245 - val_loss: 687.6375 - val_mae: 687.6375\n",
            "Epoch 69/100\n",
            "18/18 [==============================] - 0s 3ms/step - loss: 126.9916 - mae: 126.9916 - val_loss: 664.9471 - val_mae: 664.9471\n",
            "Epoch 70/100\n",
            "18/18 [==============================] - 0s 3ms/step - loss: 124.8735 - mae: 124.8735 - val_loss: 619.6683 - val_mae: 619.6683\n",
            "Epoch 71/100\n",
            "18/18 [==============================] - 0s 3ms/step - loss: 109.8522 - mae: 109.8522 - val_loss: 582.3639 - val_mae: 582.3639\n",
            "Epoch 72/100\n",
            "18/18 [==============================] - 0s 3ms/step - loss: 107.6717 - mae: 107.6717 - val_loss: 573.4947 - val_mae: 573.4947\n",
            "Epoch 73/100\n",
            "18/18 [==============================] - 0s 3ms/step - loss: 109.6036 - mae: 109.6036 - val_loss: 583.9044 - val_mae: 583.9044\n",
            "Epoch 74/100\n",
            "18/18 [==============================] - 0s 24ms/step - loss: 107.7049 - mae: 107.7049 - val_loss: 572.9933 - val_mae: 572.9933\n",
            "Epoch 75/100\n",
            "18/18 [==============================] - 0s 4ms/step - loss: 108.1179 - mae: 108.1179 - val_loss: 583.9375 - val_mae: 583.9375\n",
            "Epoch 76/100\n",
            "18/18 [==============================] - 0s 3ms/step - loss: 109.5447 - mae: 109.5447 - val_loss: 592.8234 - val_mae: 592.8234\n",
            "Epoch 77/100\n",
            "18/18 [==============================] - 0s 3ms/step - loss: 108.3639 - mae: 108.3639 - val_loss: 575.4260 - val_mae: 575.4260\n",
            "Epoch 78/100\n",
            "18/18 [==============================] - 0s 2ms/step - loss: 108.0055 - mae: 108.0055 - val_loss: 574.3940 - val_mae: 574.3940\n",
            "Epoch 79/100\n",
            "18/18 [==============================] - 0s 3ms/step - loss: 107.3223 - mae: 107.3223 - val_loss: 597.2479 - val_mae: 597.2479\n",
            "Epoch 80/100\n",
            "18/18 [==============================] - 0s 4ms/step - loss: 108.1452 - mae: 108.1452 - val_loss: 586.6866 - val_mae: 586.6866\n",
            "Epoch 81/100\n",
            "18/18 [==============================] - 0s 3ms/step - loss: 106.1153 - mae: 106.1153 - val_loss: 575.1766 - val_mae: 575.1766\n",
            "Epoch 82/100\n",
            "18/18 [==============================] - 0s 3ms/step - loss: 116.6343 - mae: 116.6343 - val_loss: 575.4341 - val_mae: 575.4341\n",
            "Epoch 83/100\n",
            "18/18 [==============================] - 0s 3ms/step - loss: 110.8731 - mae: 110.8731 - val_loss: 654.5366 - val_mae: 654.5366\n",
            "Epoch 84/100\n",
            "18/18 [==============================] - 0s 23ms/step - loss: 111.9106 - mae: 111.9106 - val_loss: 572.3372 - val_mae: 572.3372\n",
            "Epoch 85/100\n",
            "18/18 [==============================] - 0s 2ms/step - loss: 106.6154 - mae: 106.6154 - val_loss: 574.2833 - val_mae: 574.2833\n",
            "Epoch 86/100\n",
            "18/18 [==============================] - 0s 3ms/step - loss: 108.4299 - mae: 108.4299 - val_loss: 583.3531 - val_mae: 583.3531\n",
            "Epoch 87/100\n",
            "18/18 [==============================] - 0s 3ms/step - loss: 105.7481 - mae: 105.7481 - val_loss: 593.0121 - val_mae: 593.0121\n",
            "Epoch 88/100\n",
            "18/18 [==============================] - 0s 24ms/step - loss: 107.2604 - mae: 107.2604 - val_loss: 571.7657 - val_mae: 571.7657\n",
            "Epoch 89/100\n",
            "18/18 [==============================] - 0s 24ms/step - loss: 106.7823 - mae: 106.7823 - val_loss: 568.6370 - val_mae: 568.6370\n",
            "Epoch 90/100\n",
            "18/18 [==============================] - 0s 2ms/step - loss: 105.8682 - mae: 105.8682 - val_loss: 602.9691 - val_mae: 602.9691\n",
            "Epoch 91/100\n",
            "18/18 [==============================] - 0s 3ms/step - loss: 110.6365 - mae: 110.6365 - val_loss: 605.6945 - val_mae: 605.6945\n",
            "Epoch 92/100\n",
            "18/18 [==============================] - 0s 3ms/step - loss: 109.4669 - mae: 109.4669 - val_loss: 572.4369 - val_mae: 572.4369\n",
            "Epoch 93/100\n",
            "18/18 [==============================] - 0s 4ms/step - loss: 113.0063 - mae: 113.0063 - val_loss: 617.3000 - val_mae: 617.3000\n",
            "Epoch 94/100\n",
            "18/18 [==============================] - 0s 3ms/step - loss: 112.4903 - mae: 112.4903 - val_loss: 599.9803 - val_mae: 599.9803\n",
            "Epoch 95/100\n",
            "18/18 [==============================] - 0s 3ms/step - loss: 106.0053 - mae: 106.0053 - val_loss: 570.6212 - val_mae: 570.6212\n",
            "Epoch 96/100\n",
            "18/18 [==============================] - 0s 3ms/step - loss: 109.5910 - mae: 109.5910 - val_loss: 676.3395 - val_mae: 676.3395\n",
            "Epoch 97/100\n",
            "18/18 [==============================] - 0s 3ms/step - loss: 110.2213 - mae: 110.2213 - val_loss: 574.2988 - val_mae: 574.2988\n",
            "Epoch 98/100\n",
            "18/18 [==============================] - 0s 3ms/step - loss: 106.7290 - mae: 106.7290 - val_loss: 576.7733 - val_mae: 576.7733\n",
            "Epoch 99/100\n",
            "18/18 [==============================] - 0s 24ms/step - loss: 106.9889 - mae: 106.9889 - val_loss: 568.5499 - val_mae: 568.5499\n",
            "Epoch 100/100\n",
            "18/18 [==============================] - 0s 3ms/step - loss: 117.7622 - mae: 117.7622 - val_loss: 662.5323 - val_mae: 662.5323\n"
          ]
        },
        {
          "output_type": "execute_result",
          "data": {
            "text/plain": [
              "<keras.callbacks.History at 0x7fe281a58490>"
            ]
          },
          "metadata": {},
          "execution_count": 38
        }
      ]
    },
    {
      "cell_type": "code",
      "source": [
        "# Evaluate model on test data\n",
        "model_1.evaluate(test_windows, test_labels)"
      ],
      "metadata": {
        "colab": {
          "base_uri": "https://localhost:8080/"
        },
        "id": "R6pNzJGGWb9A",
        "outputId": "13609c26-0deb-4519-897b-564aa444ccca"
      },
      "execution_count": 39,
      "outputs": [
        {
          "output_type": "stream",
          "name": "stdout",
          "text": [
            "18/18 [==============================] - 0s 1ms/step - loss: 662.5322 - mae: 662.5322\n"
          ]
        },
        {
          "output_type": "execute_result",
          "data": {
            "text/plain": [
              "[662.5322265625, 662.5322265625]"
            ]
          },
          "metadata": {},
          "execution_count": 39
        }
      ]
    },
    {
      "cell_type": "code",
      "source": [
        "# Load in saved best performing model_1 and evaluate on test data\n",
        "model_1 = tf.keras.models.load_model(\"model_experiments/model_1_dense\")\n",
        "model_1.evaluate(test_windows, test_labels)"
      ],
      "metadata": {
        "colab": {
          "base_uri": "https://localhost:8080/"
        },
        "id": "C5uUEXMdWgqV",
        "outputId": "eb18e0a1-0ecf-4671-ef1f-f1fe619b6ea4"
      },
      "execution_count": 40,
      "outputs": [
        {
          "output_type": "stream",
          "name": "stdout",
          "text": [
            "18/18 [==============================] - 0s 1ms/step - loss: 568.5499 - mae: 568.5499\n"
          ]
        },
        {
          "output_type": "execute_result",
          "data": {
            "text/plain": [
              "[568.5498657226562, 568.5498657226562]"
            ]
          },
          "metadata": {},
          "execution_count": 40
        }
      ]
    },
    {
      "cell_type": "code",
      "source": [
        "def make_preds(model, input_data):\n",
        "  \"\"\"\n",
        "  Uses model to make predictions on input_data.\n",
        "\n",
        "  Parameters\n",
        "  ----------\n",
        "  model: trained model \n",
        "  input_data: windowed input data (same kind of data model was trained on)\n",
        "\n",
        "  Returns model predictions on input_data.\n",
        "  \"\"\"\n",
        "  forecast = model.predict(input_data)\n",
        "  return tf.squeeze(forecast) # return 1D array of predictions"
      ],
      "metadata": {
        "id": "K9P_hXTrWw37"
      },
      "execution_count": 41,
      "outputs": []
    },
    {
      "cell_type": "code",
      "source": [
        "# Make predictions using model_1 on the test dataset and view the results\n",
        "model_1_preds = make_preds(model_1, test_windows)\n",
        "len(model_1_preds), model_1_preds[:10]"
      ],
      "metadata": {
        "colab": {
          "base_uri": "https://localhost:8080/"
        },
        "id": "qQUtriNBW0Ep",
        "outputId": "cf7fac6f-d4be-4a95-8d74-1a034fc076f1"
      },
      "execution_count": 42,
      "outputs": [
        {
          "output_type": "stream",
          "name": "stdout",
          "text": [
            "18/18 [==============================] - 0s 990us/step\n"
          ]
        },
        {
          "output_type": "execute_result",
          "data": {
            "text/plain": [
              "(556, <tf.Tensor: shape=(10,), dtype=float32, numpy=\n",
              " array([8874.493, 8789.944, 9040.986, 8804.829, 8741.21 , 8749.837,\n",
              "        8705.865, 8513.171, 8478.415, 8536.302], dtype=float32)>)"
            ]
          },
          "metadata": {},
          "execution_count": 42
        }
      ]
    },
    {
      "cell_type": "code",
      "source": [
        "# Evaluate preds\n",
        "model_1_results = evaluate_preds(y_true=tf.squeeze(test_labels), # reduce to right shape\n",
        "                                 y_pred=model_1_preds)\n",
        "model_1_results"
      ],
      "metadata": {
        "colab": {
          "base_uri": "https://localhost:8080/"
        },
        "id": "3Fm-XWV7W_zu",
        "outputId": "756dc5b5-137e-4536-8bd8-795c5f6fc85e"
      },
      "execution_count": 43,
      "outputs": [
        {
          "output_type": "execute_result",
          "data": {
            "text/plain": [
              "{'mae': 568.5498,\n",
              " 'mse': 1172587.4,\n",
              " 'rmse': 1082.8607,\n",
              " 'mape': 2.549229,\n",
              " 'mase': 0.99878454}"
            ]
          },
          "metadata": {},
          "execution_count": 43
        }
      ]
    },
    {
      "cell_type": "code",
      "source": [
        "naive_results\n"
      ],
      "metadata": {
        "colab": {
          "base_uri": "https://localhost:8080/"
        },
        "id": "nIZjSG4qXL9q",
        "outputId": "87c0b1d1-cbe7-49a0-9d17-7bcf0fc0d27e"
      },
      "execution_count": 44,
      "outputs": [
        {
          "output_type": "execute_result",
          "data": {
            "text/plain": [
              "{'mae': 567.9802,\n",
              " 'mse': 1147547.0,\n",
              " 'rmse': 1071.2362,\n",
              " 'mape': 2.5165248,\n",
              " 'mase': 0.99957}"
            ]
          },
          "metadata": {},
          "execution_count": 44
        }
      ]
    },
    {
      "cell_type": "code",
      "source": [
        "offset = 300\n",
        "plt.figure(figsize=(10, 7))\n",
        "# Account for the test_window offset and index into test_labels to ensure correct plotting\n",
        "plot_time_series(timesteps=X_test[-len(test_windows):], values=test_labels[:, 0], start=offset, label=\"Test_data\")\n",
        "plot_time_series(timesteps=X_test[-len(test_windows):], values=model_1_preds, start=offset, format=\"-\", label=\"model_1_preds\")"
      ],
      "metadata": {
        "colab": {
          "base_uri": "https://localhost:8080/",
          "height": 442
        },
        "id": "srBR4usVXU6R",
        "outputId": "2a16308c-6b0b-484f-fd53-d29b4ad29e0a"
      },
      "execution_count": 45,
      "outputs": [
        {
          "output_type": "display_data",
          "data": {
            "text/plain": [
              "<Figure size 720x504 with 1 Axes>"
            ],
            "image/png": "[encoded data removed]"
          },
          "metadata": {
            "needs_background": "light"
          }
        }
      ]
    }
  ]
}